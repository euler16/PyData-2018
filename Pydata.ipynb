{
 "cells": [
  {
   "cell_type": "markdown",
   "metadata": {},
   "source": [
    "**Introduction to PyQuil**\n"
   ]
  },
  {
   "cell_type": "code",
   "execution_count": 1,
   "metadata": {},
   "outputs": [
    {
     "name": "stdout",
     "output_type": "stream",
     "text": [
      "Requirement already satisfied: pyquil in ./pydata/lib/python3.5/site-packages (1.9.0)\n",
      "Requirement already satisfied: urllib3>=1.21.1 in ./pydata/lib/python3.5/site-packages (from pyquil) (1.23)\n",
      "Requirement already satisfied: numpy>=1.10 in ./pydata/lib/python3.5/site-packages (from pyquil) (1.15.0)\n",
      "Requirement already satisfied: antlr4-python3-runtime>=4.7; python_version >= \"3\" in ./pydata/lib/python3.5/site-packages (from pyquil) (4.7.1)\n",
      "Requirement already satisfied: requests>=2.4.2 in ./pydata/lib/python3.5/site-packages (from pyquil) (2.19.1)\n",
      "Requirement already satisfied: matplotlib>=1.5 in ./pydata/lib/python3.5/site-packages (from pyquil) (2.2.3)\n",
      "Requirement already satisfied: typing>=3.6 in ./pydata/lib/python3.5/site-packages (from pyquil) (3.6.4)\n",
      "Requirement already satisfied: idna<2.8,>=2.5 in ./pydata/lib/python3.5/site-packages (from requests>=2.4.2->pyquil) (2.7)\n",
      "Requirement already satisfied: certifi>=2017.4.17 in ./pydata/lib/python3.5/site-packages (from requests>=2.4.2->pyquil) (2018.4.16)\n",
      "Requirement already satisfied: chardet<3.1.0,>=3.0.2 in ./pydata/lib/python3.5/site-packages (from requests>=2.4.2->pyquil) (3.0.4)\n",
      "Requirement already satisfied: pytz in ./pydata/lib/python3.5/site-packages (from matplotlib>=1.5->pyquil) (2018.5)\n",
      "Requirement already satisfied: kiwisolver>=1.0.1 in ./pydata/lib/python3.5/site-packages (from matplotlib>=1.5->pyquil) (1.0.1)\n",
      "Requirement already satisfied: six>=1.10 in ./pydata/lib/python3.5/site-packages (from matplotlib>=1.5->pyquil) (1.11.0)\n",
      "Requirement already satisfied: cycler>=0.10 in ./pydata/lib/python3.5/site-packages (from matplotlib>=1.5->pyquil) (0.10.0)\n",
      "Requirement already satisfied: python-dateutil>=2.1 in ./pydata/lib/python3.5/site-packages (from matplotlib>=1.5->pyquil) (2.7.3)\n",
      "Requirement already satisfied: pyparsing!=2.0.4,!=2.1.2,!=2.1.6,>=2.0.1 in ./pydata/lib/python3.5/site-packages (from matplotlib>=1.5->pyquil) (2.2.0)\n",
      "Requirement already satisfied: setuptools in ./pydata/lib/python3.5/site-packages (from kiwisolver>=1.0.1->matplotlib>=1.5->pyquil) (40.0.0)\n"
     ]
    }
   ],
   "source": [
    "# installation\n",
    "!pip install pyquil"
   ]
  },
  {
   "cell_type": "markdown",
   "metadata": {},
   "source": [
    "all qubits are initialized to **|0>** state"
   ]
  },
  {
   "cell_type": "code",
   "execution_count": 2,
   "metadata": {},
   "outputs": [],
   "source": [
    "import numpy as np\n",
    "from pyquil.quil import Program\n",
    "from pyquil.api import QVMConnection # for connecting to Rigetti Cloud\n",
    "\n",
    "# importing the NOT gate (which is also the Pauli X gate) and Identity gate\n",
    "from pyquil.gates import X, I\n",
    "\n",
    "qvm = QVMConnection()"
   ]
  },
  {
   "cell_type": "code",
   "execution_count": 3,
   "metadata": {},
   "outputs": [
    {
     "name": "stdout",
     "output_type": "stream",
     "text": [
      "I 0\n",
      "\n"
     ]
    }
   ],
   "source": [
    "p = Program(I(0)) # apply identity gate on Qubit #0\n",
    "print(p) # printing the underlying Quil Assembly code"
   ]
  },
  {
   "cell_type": "code",
   "execution_count": 4,
   "metadata": {},
   "outputs": [
    {
     "name": "stdout",
     "output_type": "stream",
     "text": [
      "(1+0j)|0>\n"
     ]
    }
   ],
   "source": [
    "wavefunction = qvm.wavefunction(p) # print the state vector\n",
    "print(wavefunction)"
   ]
  },
  {
   "cell_type": "code",
   "execution_count": 14,
   "metadata": {},
   "outputs": [
    {
     "name": "stdout",
     "output_type": "stream",
     "text": [
      "(1+0j)|00001000>\n"
     ]
    }
   ],
   "source": [
    "# use classical control logic\n",
    "p = Program()\n",
    "\n",
    "for i in range(8):\n",
    "    if i==3:\n",
    "        p+=X(i)\n",
    "    else:\n",
    "        p += I(i)\n",
    "    \n",
    "wavefunction = qvm.wavefunction(p)\n",
    "print(wavefunction)"
   ]
  },
  {
   "cell_type": "code",
   "execution_count": 7,
   "metadata": {},
   "outputs": [
    {
     "name": "stdout",
     "output_type": "stream",
     "text": [
      "(1+0j)|10>\n"
     ]
    }
   ],
   "source": [
    "# flipping some qubits\n",
    "\n",
    "p = Program().inst(I(0),X(1)) # or equivalently Program(X(1))\n",
    "wavefunction = qvm.wavefunction(p)\n",
    "\n",
    "print(wavefunction)"
   ]
  },
  {
   "cell_type": "code",
   "execution_count": 17,
   "metadata": {},
   "outputs": [
    {
     "name": "stdout",
     "output_type": "stream",
     "text": [
      "CNOT of |00> :  (1+0j)|00>\n",
      "CNOT of |10> :  (1+0j)|11>\n",
      "\n",
      "The corresponding assembly code is\n",
      "X 1\n",
      "CNOT 1 0\n",
      "\n"
     ]
    }
   ],
   "source": [
    "# Applying CNOT gate\n",
    "from pyquil.gates import CNOT\n",
    "p = Program(CNOT(0,1))\n",
    "w1 = qvm.wavefunction(p)\n",
    "print('CNOT of |00> : ',w1)\n",
    "\n",
    "q = Program(X(1),CNOT(1,0))\n",
    "w2 = qvm.wavefunction(q)\n",
    "print('CNOT of |10> : ',w2)\n",
    "\n",
    "print('\\nThe corresponding assembly code is')\n",
    "print(q)"
   ]
  },
  {
   "cell_type": "code",
   "execution_count": 22,
   "metadata": {},
   "outputs": [
    {
     "name": "stdout",
     "output_type": "stream",
     "text": [
      "(0.7071067812+0j)|00> + (0.7071067812+0j)|11>\n",
      "\n",
      "Corresponding assembly code\n",
      " H 1\n",
      "CNOT 1 0\n",
      "\n"
     ]
    }
   ],
   "source": [
    "# import Hadamard gate\n",
    "from pyquil.gates import H\n",
    "# creating bell state\n",
    "\n",
    "p = Program().inst(H(1),CNOT(1,0))\n",
    "bell = qvm.wavefunction(p)\n",
    "\n",
    "print(bell)\n",
    "\n",
    "print('\\nCorresponding assembly code\\n',p)"
   ]
  },
  {
   "cell_type": "code",
   "execution_count": 37,
   "metadata": {},
   "outputs": [
    {
     "name": "stdout",
     "output_type": "stream",
     "text": [
      "Printing assembly code\n",
      "H 0\n",
      "CNOT 0 1\n",
      "MEASURE 0 [0]\n",
      "MEASURE 1 [1]\n",
      "\n",
      "[[1, 1], [1, 1], [1, 1], [1, 1], [1, 1], [0, 0], [1, 1], [1, 1], [1, 1], [0, 0]]\n"
     ]
    }
   ],
   "source": [
    "# doing partial measurement on the bell state system on qubit 0 and place the result \n",
    "# in classical register indexed 3\n",
    "from pyquil.gates import MEASURE\n",
    "\n",
    "p = Program()\n",
    "p.inst(\n",
    "       H(0),\n",
    "       CNOT(0, 1),\n",
    "       MEASURE(0, 0),\n",
    "       MEASURE(1, 1)\n",
    "   )\n",
    "\n",
    "\n",
    "print('Printing assembly code')\n",
    "print(p)\n",
    "\n",
    "trials = 10\n",
    "print(qvm.run(p,[0,1],trials))\n",
    "\n",
    "\n"
   ]
  },
  {
   "cell_type": "code",
   "execution_count": 42,
   "metadata": {},
   "outputs": [
    {
     "name": "stdout",
     "output_type": "stream",
     "text": [
      "[[1, 1]]\n",
      "The Assembly Code\n",
      "H 0\n",
      "CNOT 0 1\n",
      "Z 0\n",
      "X 0\n",
      "CNOT 0 1\n",
      "H 0\n",
      "MEASURE 0 [0]\n",
      "MEASURE 1 [1]\n",
      "\n"
     ]
    }
   ],
   "source": [
    "# Quantum Teleportation\n",
    "from pyquil.gates import Z\n",
    "\n",
    "'''Entanglement - Preparation'''\n",
    "p = Program()\n",
    "p.inst(\n",
    "    H(0),\n",
    "    CNOT(0,1)\n",
    ")\n",
    "# qubit #0 is with A\n",
    "# qubit #1 is with B\n",
    "\n",
    "def EncodeQT(p,cbits):\n",
    "    Gate = {\n",
    "        '00':I(0),\n",
    "        '01':X(0),\n",
    "        '10':Z(0)\n",
    "    }\n",
    "    if cbits=='11':\n",
    "        p.inst(Z(0),X(0))\n",
    "    else:\n",
    "        p.inst(Gate[cbits])\n",
    "\n",
    "def DCodeQT(p):\n",
    "    p.inst(\n",
    "        CNOT(0,1),\n",
    "        H(0),\n",
    "        MEASURE(0, 0),\n",
    "        MEASURE(1, 1)\n",
    "    )\n",
    "    \n",
    "# on moon\n",
    "EncodeQT(p,'11')\n",
    "\n",
    "# far away on earth\n",
    "DCodeQT(p)\n",
    "\n",
    "print(qvm.run(p,[0,1]))\n",
    "print('The Assembly Code')\n",
    "print(p)"
   ]
  },
  {
   "cell_type": "code",
   "execution_count": null,
   "metadata": {},
   "outputs": [],
   "source": []
  }
 ],
 "metadata": {
  "kernelspec": {
   "display_name": "Python 3",
   "language": "python",
   "name": "python3"
  },
  "language_info": {
   "codemirror_mode": {
    "name": "ipython",
    "version": 3
   },
   "file_extension": ".py",
   "mimetype": "text/x-python",
   "name": "python",
   "nbconvert_exporter": "python",
   "pygments_lexer": "ipython3",
   "version": "3.5.2"
  }
 },
 "nbformat": 4,
 "nbformat_minor": 2
}
